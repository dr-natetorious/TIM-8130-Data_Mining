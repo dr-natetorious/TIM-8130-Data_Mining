{
 "cells": [
  {
   "cell_type": "code",
   "execution_count": 1,
   "metadata": {},
   "outputs": [],
   "source": [
    "def read_option_file(fileName):\n",
    "    import pandas as pd\n",
    "    import math\n",
    "\n",
    "    csv = pd.read_csv(fileName,\n",
    "                    names=['UnderlyingSymbol','UnderlyingPrice','Exchange',\n",
    "                        'OptionSymbol','OptionExt','Type','Expiration',\n",
    "                        'DataDate','Strike','Last','Bid','Ask','Volume',\n",
    "                        'OpenInterest','IV','Delta','Gamma','Theta','Vega','AKA'])\n",
    "\n",
    "    # Remove the exchange columns...\n",
    "    csv = csv.drop(columns=['Exchange','OptionExt','AKA'])\n",
    "\n",
    "    # Parse the date columns into datetimes...\n",
    "    csv['Expiration'] = pd.to_datetime(csv['Expiration'])\n",
    "    csv['DataDate'] = pd.to_datetime(csv['DataDate'])\n",
    "    csv['TimeRemaining'] = (csv['Expiration'] - csv['DataDate']).dt.days\n",
    "\n",
    "    # Tag the quality of the option\n",
    "    bins = [0, 0.16, 0.32, 0.64, 1]\n",
    "    moneynes = pd.cut(x=abs(csv.Delta), bins=bins, labels=['OTM','NTM','ATM','ITM'])\n",
    "    csv['ITM'] = moneynes == 'ITM'\n",
    "    csv['NTM'] = moneynes == 'NTM'\n",
    "    csv['ATM'] = moneynes == 'ATM'\n",
    "    csv['OTM'] = moneynes == 'OTM'\n",
    "\n",
    "\n",
    "    # OneHotEncode the Type property\n",
    "    csv['IsCall'] = csv['Type'] == 'call'\n",
    "    csv['IsPut'] = csv['Type'] == 'put'\n",
    "    csv = csv.drop(columns=['Type'])\n",
    "\n",
    "    # Filter out no/bid records...\n",
    "    csv = csv[(csv.Bid>0) & (csv.OpenInterest >0)]\n",
    "\n",
    "    # Sort the values\n",
    "    csv = csv.sort_values(by=['Expiration','DataDate','Strike'])\n",
    "    return csv\n"
   ]
  },
  {
   "cell_type": "code",
   "execution_count": 17,
   "metadata": {},
   "outputs": [
    {
     "name": "stdout",
     "output_type": "stream",
     "text": [
      "Requirement already satisfied: keras in /opt/conda/lib/python3.7/site-packages (2.3.1)\n",
      "Requirement already satisfied: keras-applications>=1.0.6 in /opt/conda/lib/python3.7/site-packages (from keras) (1.0.8)\n",
      "Requirement already satisfied: keras-preprocessing>=1.0.5 in /opt/conda/lib/python3.7/site-packages (from keras) (1.1.0)\n",
      "Requirement already satisfied: pyyaml in /opt/conda/lib/python3.7/site-packages (from keras) (5.1.2)\n",
      "Requirement already satisfied: h5py in /opt/conda/lib/python3.7/site-packages (from keras) (2.9.0)\n",
      "Requirement already satisfied: numpy>=1.9.1 in /opt/conda/lib/python3.7/site-packages (from keras) (1.17.3)\n",
      "Requirement already satisfied: scipy>=0.14 in /opt/conda/lib/python3.7/site-packages (from keras) (1.3.2)\n",
      "Requirement already satisfied: six>=1.9.0 in /opt/conda/lib/python3.7/site-packages (from keras) (1.13.0)\n",
      "Collecting pydot\n",
      "  Downloading https://files.pythonhosted.org/packages/33/d1/b1479a770f66d962f545c2101630ce1d5592d90cb4f083d38862e93d16d2/pydot-1.4.1-py2.py3-none-any.whl\n",
      "Requirement already satisfied: pyparsing>=2.1.4 in /opt/conda/lib/python3.7/site-packages (from pydot) (2.4.5)\n",
      "Installing collected packages: pydot\n",
      "Successfully installed pydot-1.4.1\n"
     ]
    }
   ],
   "source": [
    "!pip install keras\n",
    "!pip install pydot"
   ]
  },
  {
   "cell_type": "code",
   "execution_count": 3,
   "metadata": {},
   "outputs": [],
   "source": [
    "    "
   ]
  },
  {
   "cell_type": "code",
   "execution_count": null,
   "metadata": {},
   "outputs": [],
   "source": [
    "spy = read_option_file('SPY.csv')\n",
    "print(spy.shape)\n",
    "print(spy.head())"
   ]
  },
  {
   "cell_type": "code",
   "execution_count": 10,
   "metadata": {},
   "outputs": [
    {
     "name": "stdout",
     "output_type": "stream",
     "text": [
      "(5874250, 10)\n",
      "(2517537, 10)\n",
      "(5874250,)\n",
      "(2517537,)\n"
     ]
    }
   ],
   "source": [
    "def split_csv(csv, test_size):\n",
    "    x_data = csv[['UnderlyingPrice','Strike','IV','Delta','Gamma','Theta','Vega',\n",
    "              'TimeRemaining','IsCall','IsPut']]\n",
    "\n",
    "    # Calculate the y_predict\n",
    "    midprice = (csv['Bid']+csv['Ask'])/2\n",
    "    notional = csv['UnderlyingPrice'] * csv['Delta']\n",
    "\n",
    "    y_data = midprice #/ csv['UnderlyingPrice']\n",
    "\n",
    "    from sklearn.model_selection import train_test_split\n",
    "    x_train, x_test, y_train, y_test = train_test_split(x_data, y_data, test_size=test_size, random_state=42)\n",
    "\n",
    "    #from sklearn.preprocessing import StandardScaler\n",
    "    #scaler = StandardScaler().fit(x_train)\n",
    "    #x_train = scaler.transform(x_train)\n",
    "    #x_test = scaler.transform(x_test)\n",
    "\n",
    "    return x_train, x_test, y_train, y_test\n",
    "\n",
    "x_train, x_test, y_train, y_test = split_csv(spy, test_size=0.3)\n",
    "print(x_train.shape)\n",
    "print(x_test.shape)\n",
    "print(y_train.shape)\n",
    "print(y_test.shape)"
   ]
  },
  {
   "cell_type": "code",
   "execution_count": 51,
   "metadata": {},
   "outputs": [],
   "source": [
    "from keras.models import Sequential\n",
    "from keras.layers import Dense, Activation, Dropout, GaussianNoise\n",
    "\n",
    "model = Sequential([\n",
    "    Dense(64, input_dim=10),\n",
    "    Activation('relu'),\n",
    "    GaussianNoise(0.5),\n",
    "    Dense(1, kernel_initializer='normal')\n",
    "])\n",
    "\n",
    "model.compile(optimizer='adam', loss='mse', metrics=['accuracy'])"
   ]
  },
  {
   "cell_type": "code",
   "execution_count": 52,
   "metadata": {},
   "outputs": [
    {
     "name": "stdout",
     "output_type": "stream",
     "text": [
      "Epoch 1/3\n",
      "986552/986552 [==============================] - 13s 13us/step - loss: 3.5968 - accuracy: 0.0055\n",
      "Epoch 2/3\n",
      "986552/986552 [==============================] - 13s 14us/step - loss: 1.5799 - accuracy: 0.0071\n",
      "Epoch 3/3\n",
      "986552/986552 [==============================] - 13s 14us/step - loss: 0.9669 - accuracy: 0.0080\n"
     ]
    }
   ],
   "source": [
    "history = model.fit(x_train, y_train, epochs=5, batch_size=128)"
   ]
  },
  {
   "cell_type": "code",
   "execution_count": 53,
   "metadata": {},
   "outputs": [
    {
     "name": "stdout",
     "output_type": "stream",
     "text": [
      "422809/422809 [==============================] - 8s 18us/step\n"
     ]
    },
    {
     "data": {
      "text/plain": [
       "[0.48870307689414877, 0.011054636910557747]"
      ]
     },
     "execution_count": 53,
     "metadata": {},
     "output_type": "execute_result"
    }
   ],
   "source": [
    "score = model.evaluate(x_test, y_test)\n",
    "score"
   ]
  },
  {
   "cell_type": "code",
   "execution_count": 54,
   "metadata": {},
   "outputs": [
    {
     "data": {
      "text/plain": [
       "[0.48870307689414877, 0.011054636910557747]"
      ]
     },
     "execution_count": 54,
     "metadata": {},
     "output_type": "execute_result"
    }
   ],
   "source": [
    "score"
   ]
  },
  {
   "cell_type": "code",
   "execution_count": 55,
   "metadata": {},
   "outputs": [
    {
     "name": "stdout",
     "output_type": "stream",
     "text": [
      "loss\n",
      "accuracy\n"
     ]
    },
    {
     "data": {
      "image/png": "[encoded data removed]",
      "text/plain": [
       "<Figure size 432x288 with 1 Axes>"
      ]
     },
     "metadata": {
      "needs_background": "light"
     },
     "output_type": "display_data"
    },
    {
     "data": {
      "image/png": "[encoded data removed]",
      "text/plain": [
       "<Figure size 432x288 with 1 Axes>"
      ]
     },
     "metadata": {
      "needs_background": "light"
     },
     "output_type": "display_data"
    }
   ],
   "source": [
    "import matplotlib.pyplot as plt\n",
    "\n",
    "for x in history.history:\n",
    "    print(x)\n",
    "\n",
    "# Plot training & validation accuracy values\n",
    "plt.plot(history.history['accuracy'])\n",
    "#plt.plot(history.history['val_accuracy'])\n",
    "plt.title('Model accuracy')\n",
    "plt.ylabel('Accuracy')\n",
    "plt.xlabel('Epoch')\n",
    "plt.legend(['Train', 'Test'], loc='upper left')\n",
    "plt.show()\n",
    "\n",
    "# Plot training & validation loss values\n",
    "plt.plot(history.history['loss'])\n",
    "#plt.plot(history.history['val_loss'])\n",
    "plt.title('Model loss')\n",
    "plt.ylabel('Loss')\n",
    "plt.xlabel('Epoch')\n",
    "plt.legend(['Train', 'Test'], loc='upper left')\n",
    "plt.show()\n"
   ]
  },
  {
   "cell_type": "code",
   "execution_count": 50,
   "metadata": {},
   "outputs": [
    {
     "name": "stdout",
     "output_type": "stream",
     "text": [
      "(1409361, 23)\n"
     ]
    }
   ],
   "source": [
    "qqq = read_option_file('QQQ.csv')\n",
    "qqq = qqq[qqq.ATM | qqq.NTM]\n",
    "print(qqq.shape)\n",
    "\n",
    "x_train, x_test, y_train, y_test = split_csv(qqq, test_size=0.3)\n",
    "#model.evaluate(x_train, y_train)"
   ]
  },
  {
   "cell_type": "code",
   "execution_count": 30,
   "metadata": {},
   "outputs": [
    {
     "data": {
      "text/plain": [
       "array([[-0.12475972],\n",
       "       [ 0.68252045],\n",
       "       [ 6.1398706 ],\n",
       "       [ 1.4872643 ],\n",
       "       [20.614325  ],\n",
       "       [ 1.7420777 ],\n",
       "       [ 8.418054  ],\n",
       "       [ 0.17530537],\n",
       "       [ 3.9424796 ],\n",
       "       [ 3.2111478 ],\n",
       "       [10.3315325 ],\n",
       "       [ 3.3392894 ],\n",
       "       [ 5.0916405 ],\n",
       "       [ 4.6669383 ],\n",
       "       [ 9.212279  ],\n",
       "       [ 0.446115  ],\n",
       "       [-0.3066684 ],\n",
       "       [ 0.74131185],\n",
       "       [-0.22830711],\n",
       "       [ 3.8718243 ]], dtype=float32)"
      ]
     },
     "execution_count": 30,
     "metadata": {},
     "output_type": "execute_result"
    }
   ],
   "source": [
    "model.predict(x_train[0:20])"
   ]
  },
  {
   "cell_type": "code",
   "execution_count": 58,
   "metadata": {},
   "outputs": [],
   "source": [
    "from keras.layers import LSTM"
   ]
  },
  {
   "cell_type": "code",
   "execution_count": 65,
   "metadata": {},
   "outputs": [
    {
     "name": "stdout",
     "output_type": "stream",
     "text": [
      "(2496117, 23)\n",
      "Epoch 1/10\n",
      "1248058/1248058 [==============================] - 27s 22us/step - loss: 10.7858 - accuracy: 0.0021 - acc: 0.0021\n",
      "Epoch 2/10\n",
      "1248058/1248058 [==============================] - 27s 22us/step - loss: 3.0048 - accuracy: 0.0028 - acc: 0.0028\n",
      "Epoch 3/10\n",
      "1248058/1248058 [==============================] - 27s 22us/step - loss: 1.9166 - accuracy: 0.0034 - acc: 0.0034\n",
      "Epoch 4/10\n",
      "1248058/1248058 [==============================] - 27s 22us/step - loss: 1.2179 - accuracy: 0.0042 - acc: 0.0042\n",
      "Epoch 5/10\n",
      "1248058/1248058 [==============================] - 27s 22us/step - loss: 1.1329 - accuracy: 0.0045 - acc: 0.0045\n",
      "Epoch 6/10\n",
      "1248058/1248058 [==============================] - 27s 22us/step - loss: 1.6512 - accuracy: 0.0044 - acc: 0.0044\n",
      "Epoch 7/10\n",
      "1248058/1248058 [==============================] - 27s 21us/step - loss: 0.9912 - accuracy: 0.0047 - acc: 0.0047\n",
      "Epoch 8/10\n",
      "1248058/1248058 [==============================] - 27s 21us/step - loss: 0.8099 - accuracy: 0.0048 - acc: 0.0048\n",
      "Epoch 9/10\n",
      "1248058/1248058 [==============================] - 27s 21us/step - loss: 0.7821 - accuracy: 0.0049 - acc: 0.0049\n",
      "Epoch 10/10\n",
      "1248058/1248058 [==============================] - 27s 21us/step - loss: 0.8169 - accuracy: 0.0050 - acc: 0.0050\n",
      "1248059/1248059 [==============================] - 25s 20us/step\n"
     ]
    },
    {
     "data": {
      "text/plain": [
       "[0.5606617752010994, 0.005608709063380957, 0.005608709063380957]"
      ]
     },
     "execution_count": 65,
     "metadata": {},
     "output_type": "execute_result"
    }
   ],
   "source": [
    "from keras.models import Sequential\n",
    "from keras.layers import Dense, Activation, Dropout, GaussianNoise, LSTM\n",
    "\n",
    "model = Sequential([\n",
    "    Dense(64, input_dim=10),\n",
    "    Activation('relu'), \n",
    "    Dense(64),\n",
    "    GaussianNoise(0.5),\n",
    "    Dense(64),\n",
    "    Dense(1, kernel_initializer='normal')\n",
    "])\n",
    "\n",
    "model.compile(optimizer='adam', loss='mse', metrics=['accuracy', 'acc'])\n",
    "\n",
    "spy = read_option_file('SPY.csv')\n",
    "spy = spy[spy.ATM | spy.NTM]\n",
    "print(spy.shape)\n",
    "\n",
    "x_train, x_test, y_train, y_test = split_csv(spy, test_size=0.5)\n",
    "history = model.fit(x_train, y_train, epochs=10, batch_size=100)\n",
    "score = model.evaluate(x_test, y_test)\n",
    "score"
   ]
  }
 ],
 "metadata": {
  "kernelspec": {
   "display_name": "Python 3",
   "language": "python",
   "name": "python3"
  },
  "language_info": {
   "codemirror_mode": {
    "name": "ipython",
    "version": 3
   },
   "file_extension": ".py",
   "mimetype": "text/x-python",
   "name": "python",
   "nbconvert_exporter": "python",
   "pygments_lexer": "ipython3",
   "version": "3.7.3"
  }
 },
 "nbformat": 4,
 "nbformat_minor": 2
}
