{
 "cells": [
  {
   "cell_type": "code",
   "execution_count": 1,
   "metadata": {},
   "outputs": [
    {
     "name": "stdout",
     "output_type": "stream",
     "text": [
      "Downloading data from http://fashion-mnist.s3-website.eu-central-1.amazonaws.com/train-labels-idx1-ubyte.gz\n",
      "32768/29515 [=================================] - 0s 3us/step\n",
      "Downloading data from http://fashion-mnist.s3-website.eu-central-1.amazonaws.com/train-images-idx3-ubyte.gz\n",
      "26427392/26421880 [==============================] - 3s 0us/step\n",
      "Downloading data from http://fashion-mnist.s3-website.eu-central-1.amazonaws.com/t10k-labels-idx1-ubyte.gz\n",
      "8192/5148 [===============================================] - 0s 0us/step\n",
      "Downloading data from http://fashion-mnist.s3-website.eu-central-1.amazonaws.com/t10k-images-idx3-ubyte.gz\n",
      "4423680/4422102 [==============================] - 1s 0us/step\n"
     ]
    }
   ],
   "source": [
    "from keras.datasets import fashion_mnist\n",
    "\n",
    "(x_train,y_train), (x_test, y_test) = fashion_mnist.load_data()"
   ]
  },
  {
   "cell_type": "code",
   "execution_count": 10,
   "metadata": {},
   "outputs": [
    {
     "data": {
      "text/plain": [
       "((60000, 28, 28), (60000,))"
      ]
     },
     "execution_count": 10,
     "metadata": {},
     "output_type": "execute_result"
    }
   ],
   "source": [
    "(x_train.shape, y_train.shape)"
   ]
  },
  {
   "cell_type": "code",
   "execution_count": 25,
   "metadata": {},
   "outputs": [
    {
     "data": {
      "text/plain": [
       "'channels_last'"
      ]
     },
     "execution_count": 25,
     "metadata": {},
     "output_type": "execute_result"
    }
   ],
   "source": [
    "from keras import backend as K\n",
    "K.image_data_format()"
   ]
  },
  {
   "cell_type": "code",
   "execution_count": 72,
   "metadata": {},
   "outputs": [
    {
     "name": "stdout",
     "output_type": "stream",
     "text": [
      "Epoch 1/1\n",
      "60000/60000 [==============================] - 16s 260us/step - loss: 0.0692 - accuracy: 0.7088\n",
      "10000/10000 [==============================] - 1s 132us/step\n"
     ]
    },
    {
     "data": {
      "text/plain": [
       "[0.036462617166340354, 0.8052999973297119]"
      ]
     },
     "execution_count": 72,
     "metadata": {},
     "output_type": "execute_result"
    }
   ],
   "source": [
    "from keras.models import Sequential\n",
    "from keras.layers import *\n",
    "\n",
    "def build(width, height, depth, classes):\n",
    "    model = Sequential()\n",
    "    inputShape = (height, width, depth)\n",
    "    chanDim = -1\n",
    "\n",
    "    model.add(Conv2D(32, (3, 3), padding=\"same\",input_shape=inputShape))\n",
    "    #model.add(Activation(\"relu\"))\n",
    "    #model.add(BatchNormalization(axis=chanDim))\n",
    "    #model.add(Conv2D(32, (3, 3), padding=\"same\"))\n",
    "    #model.add(Activation(\"relu\"))\n",
    "    #model.add(BatchNormalization(axis=chanDim))\n",
    "    #model.add(MaxPooling2D(pool_size=(2, 2)))\n",
    "    #model.add(Dropout(0.25))\n",
    "    \n",
    "    # second CONV => RELU => CONV => RELU => POOL layer set\n",
    "    #model.add(Conv2D(64, (3, 3), padding=\"same\"))\n",
    "    #model.add(Activation(\"relu\"))\n",
    "    #model.add(BatchNormalization(axis=chanDim))\n",
    "    #model.add(Conv2D(64, (3, 3), padding=\"same\"))\n",
    "    #model.add(Activation(\"relu\"))\n",
    "    #model.add(BatchNormalization(axis=chanDim))\n",
    "    #model.add(MaxPooling2D(pool_size=(2, 2)))\n",
    "    #model.add(Dropout(0.25))\n",
    "    \n",
    "    # first (and only) set of FC => RELU layers    \n",
    "    model.add(Flatten())   # required: converts into (28*28*1) array\n",
    "    #model.add(Dense(512))\n",
    "    #model.add(Activation(\"relu\"))\n",
    "    model.add(BatchNormalization())\n",
    "    #model.add(Dropout(0.5))\n",
    "    \n",
    "    # softmax classifier\n",
    "    model.add(Dense(classes))\n",
    "    model.add(Activation(\"sigmoid\"))\n",
    "    \n",
    "    # return the constructed network architecture\n",
    "    return model\n",
    "\n",
    "\n",
    "model = build(28,28, 1, 10)\n",
    "model.compile(optimizer='adam', loss='mse', metrics=['accuracy'])\n",
    "\n",
    "x_train_shaped = x_train.reshape((x_train.shape[0], 28,28,1))\n",
    "x_test_shaped = x_test.reshape((x_test.shape[0], 28,28,1))\n",
    "\n",
    "y_train_shaped = np_utils.to_categorical(y_train, 10)\n",
    "y_test_shaped = np_utils.to_categorical(y_test, 10)\n",
    "labelNames = [\"top\", \"trouser\", \"pullover\", \"dress\", \"coat\",\"sandal\", \"shirt\", \"sneaker\", \"bag\", \"ankle boot\"]\n",
    "\n",
    "\n",
    "history = model.fit(x_train_shaped, y_train_shaped, epochs=1, batch_size=128)\n",
    "score = model.evaluate(x_test_shaped, y_test_shaped)\n",
    "score"
   ]
  },
  {
   "cell_type": "code",
   "execution_count": 51,
   "metadata": {},
   "outputs": [
    {
     "name": "stdout",
     "output_type": "stream",
     "text": [
      "Epoch 1/1\n",
      "60000/60000 [==============================] - 87s 1ms/step - loss: 0.0253 - accuracy: 0.8332\n"
     ]
    }
   ],
   "source": []
  },
  {
   "cell_type": "code",
   "execution_count": 37,
   "metadata": {},
   "outputs": [],
   "source": [
    "import numpy as np\n",
    "from keras.utils import np_utils"
   ]
  },
  {
   "cell_type": "code",
   "execution_count": 40,
   "metadata": {},
   "outputs": [
    {
     "name": "stdout",
     "output_type": "stream",
     "text": [
      "Epoch 1/3\n",
      "60000/60000 [==============================] - 225s 4ms/step - loss: 0.0287 - accuracy: 0.8115\n",
      "Epoch 2/3\n",
      "60000/60000 [==============================] - 226s 4ms/step - loss: 0.0219 - accuracy: 0.8577\n",
      "Epoch 3/3\n",
      "60000/60000 [==============================] - 229s 4ms/step - loss: 0.0204 - accuracy: 0.8683\n"
     ]
    }
   ],
   "source": [
    "x_train_shaped = x_train.reshape((x_train.shape[0], 28,28,1))\n",
    "x_test_shaped = x_test.reshape((x_test.shape[0], 28,28,1))\n",
    "\n",
    "y_train_shaped = np_utils.to_categorical(y_train, 10)\n",
    "y_test_shaped = np_utils.to_categorical(y_test, 10)\n",
    "labelNames = [\"top\", \"trouser\", \"pullover\", \"dress\", \"coat\",\"sandal\", \"shirt\", \"sneaker\", \"bag\", \"ankle boot\"]\n",
    "\n",
    "history = model.fit(x_train_shaped, y_train_shaped, epochs=3, batch_size=10)"
   ]
  },
  {
   "cell_type": "code",
   "execution_count": 43,
   "metadata": {},
   "outputs": [
    {
     "data": {
      "text/plain": [
       "(60000, 28, 28, 1)"
      ]
     },
     "execution_count": 43,
     "metadata": {},
     "output_type": "execute_result"
    }
   ],
   "source": [
    "x_train_shaped.shape"
   ]
  },
  {
   "cell_type": "code",
   "execution_count": 44,
   "metadata": {},
   "outputs": [
    {
     "data": {
      "text/plain": [
       "(60000, 28, 28)"
      ]
     },
     "execution_count": 44,
     "metadata": {},
     "output_type": "execute_result"
    }
   ],
   "source": [
    "x_train.shape"
   ]
  }
 ],
 "metadata": {
  "kernelspec": {
   "display_name": "Python 3",
   "language": "python",
   "name": "python3"
  },
  "language_info": {
   "codemirror_mode": {
    "name": "ipython",
    "version": 3
   },
   "file_extension": ".py",
   "mimetype": "text/x-python",
   "name": "python",
   "nbconvert_exporter": "python",
   "pygments_lexer": "ipython3",
   "version": "3.7.3"
  }
 },
 "nbformat": 4,
 "nbformat_minor": 2
}
