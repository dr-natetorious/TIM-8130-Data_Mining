{
 "cells": [
  {
   "cell_type": "code",
   "execution_count": 14,
   "metadata": {},
   "outputs": [],
   "source": [
    "import numpy as np\n",
    "\n",
    "corpus = open('work/shakespeare.txt').read().split()\n",
    "\n",
    "def read_shakespeare():\n",
    "    shakespeare = open('work/shakespeare.txt').read()\n",
    "    corpus = mcbeth.split()\n",
    "\n",
    "    for i in range(len(corpus)-6):\n",
    "        yield (corpus[i], corpus[i+1], corpus[i+2], corpus[i+3], corpus[i+4], corpus[i+5], corpus[i+6])\n",
    "\n",
    "pairs = read_shakespear()\n",
    "#print(list(pairs))\n",
    "\n",
    "word_dict = {}\n",
    "for w1, w2, w3,w4, w5,w6,w7 in pairs:\n",
    "    # ngram-1\n",
    "    if w1 in word_dict.keys():\n",
    "        word_dict[w1].append(w2)\n",
    "    else:\n",
    "        word_dict[w1] = [w2]\n",
    "    \n",
    "    # ngram-2\n",
    "    if (w1,w2) in word_dict.keys():\n",
    "        word_dict[(w1,w2)].append(w3)\n",
    "    else:\n",
    "        word_dict[(w1,w2)]=[w3]\n",
    "        \n",
    "    # ngram-3\n",
    "    if (w1,w2,w3) in word_dict.keys():\n",
    "        word_dict[(w1,w2,w3)].append(w4)\n",
    "    else:\n",
    "        word_dict[(w1,w2,w3)]=[w4]\n",
    "        \n",
    "    # ngram-4\n",
    "    if (w1,w2,w3,w4) in word_dict.keys():\n",
    "        word_dict[(w1,w2,w3,w4)].append(w5)\n",
    "    else:\n",
    "        word_dict[(w1,w2,w3,w4)]=[w5]\n",
    "        \n",
    "    # ngram-5\n",
    "    if (w1,w2,w3,w4,w5) in word_dict.keys():\n",
    "        word_dict[(w1,w2,w3,w4,w5)].append(w6)\n",
    "    else:\n",
    "        word_dict[(w1,w2,w3,w4,w5)]=[w6]\n",
    "        \n",
    "    # ngram-6\n",
    "    if (w1,w2,w3,w4,w5,w6) in word_dict.keys():\n",
    "        word_dict[(w1,w2,w3,w4,w5,w6)].append(w7)\n",
    "    else:\n",
    "        word_dict[(w1,w2,w3,w4,w5,w6)]=[w7]\n"
   ]
  },
  {
   "cell_type": "code",
   "execution_count": 37,
   "metadata": {},
   "outputs": [],
   "source": [
    "def next_line(n_gram =2, n_words = 20):\n",
    "    first_word = np.random.choice(corpus)\n",
    "    next_word = np.random.choice(word_dict[first_word])\n",
    "    chain = [first_word, next_word]\n",
    "    \n",
    "    for _ in range(n_words):\n",
    "        if len(chain)>6 and n_gram >=6:\n",
    "            preferred = (chain[-6], chain[-5], chain[-4], chain[-3], chain[-2], chain[-1])\n",
    "            if preferred in word_dict.keys():\n",
    "                chain.append(np.random.choice(word_dict[preferred]))\n",
    "                continue\n",
    "\n",
    "        if len(chain)>5  and n_gram >=5:\n",
    "            preferred = (chain[-5], chain[-4], chain[-3], chain[-2], chain[-1])\n",
    "            if preferred in word_dict.keys():\n",
    "                chain.append(np.random.choice(word_dict[preferred]))\n",
    "                continue\n",
    "\n",
    "        if len(chain)>4  and n_gram >=4:\n",
    "            preferred = (chain[-4], chain[-3], chain[-2], chain[-1])\n",
    "            if preferred in word_dict.keys():\n",
    "                chain.append(np.random.choice(word_dict[preferred]))\n",
    "                continue\n",
    "\n",
    "        if len(chain)>3  and n_gram >=3:\n",
    "            preferred = (chain[-3], chain[-2], chain[-1])\n",
    "            if preferred in word_dict.keys():\n",
    "                chain.append(np.random.choice(word_dict[preferred]))\n",
    "                continue\n",
    "\n",
    "        if len(chain)>2  and n_gram >=2:\n",
    "            preferred = (chain[-2], chain[-1])\n",
    "            if preferred in word_dict.keys():\n",
    "                chain.append(np.random.choice(word_dict[preferred]))\n",
    "                continue\n",
    "        \n",
    "        preferred = chain[-1]\n",
    "        if preferred in word_dict.keys():\n",
    "            chain.append(np.random.choice(word_dict[preferred]))\n",
    "            continue                        \n",
    "\n",
    "    return(' '.join(chain))"
   ]
  },
  {
   "cell_type": "code",
   "execution_count": 31,
   "metadata": {},
   "outputs": [
    {
     "name": "stdout",
     "output_type": "stream",
     "text": [
      "to the eel is and i am no more convenient seeming do and they did verily i come to me when your pleasure that as winter cricket thou so cruel that shakes on this present mdash let not to say what canst not or where either good queen katharine les doigts ma foi il me the presence and talk of the king henry's corse they are peremptory and terms that may i am withered pears it what it jars then if any woman the election and that the trodden equity bench this is not he second musician hortensio tailor come cousin thou must not have sent me it not come thou wast within fell god's bread ob henry iv plantagenet duke of all names from her father celia nay i hope reflect on our opinions where being but how farest thou takest as i do fear abate it to night i'll hammer and after prophecies first time to servant i do it let him by nym i should hale the shadow i build upon you that peace we'll not for the grosser manner brutus stabb'd her my greeting flavius i know of one hour of what dost hold his commanding rein thy\n"
     ]
    }
   ],
   "source": [
    "next_line(n_gram=1, n_words=200)"
   ]
  },
  {
   "cell_type": "code",
   "execution_count": 41,
   "metadata": {},
   "outputs": [
    {
     "name": "stdout",
     "output_type": "stream",
     "text": [
      "===========\n",
      "n-gram(0)\n",
      "===========\n",
      "indeed a prayer they teach her in the knaves all our faces but dare tell an equal potents fiery shapes of majesty upon your instruction from my tender o'er and prospers loves to hamlet that the eminence both broke any man hath wrought his sword on nourishing dishes or do benefits forgot\n",
      "===========\n",
      "n-gram(1)\n",
      "===========\n",
      "hey call'd the ring is that rosalind by gone given him he won to be the snake lies i' faith it could wish in question in with me brother than a roundel and blows strength to dinner she may messenger thy supposed you as the noontide sun sees 'em down 'gainst our\n",
      "===========\n",
      "n-gram(2)\n",
      "===========\n",
      "'ll revenge nym by welkin and her immortal part of aquitaine is bound in that mood the dove of paphos might the man come hither come so early aeneas i have seen our wishes on the gown of humility nor showing as the event sicinius velutus we are so wilful to hear\n",
      "===========\n",
      "n-gram(3)\n",
      "===========\n",
      "e them pronounce the steep tarpeian death vagabond exile raying pent to linger but with a pin and there remains some scar of it lean upon a rush the cicatrice and capable impressure thy palm some moment keeps but now mine eyes which i have greater reason to believe now than ever\n",
      "===========\n",
      "n-gram(4)\n",
      "===========\n",
      "s till he find it stopping a bunghole horatio 'twere to consider too curiously to consider so hamlet no faith not a jot but to follow him thither with modesty enough and likelihood to lead it as thus alexander died alexander was buried alexander returneth into dust the dust is earth of\n",
      "===========\n",
      "n-gram(5)\n",
      "===========\n",
      "for a precious creature as she's rare must it be great and as his person's mighty must it be violent and as he does conceive he is dishonour'd by a man which ever profess'd to him why his revenges must in that be made more bitter fear o'ershades me good expedition\n",
      "===========\n",
      "n-gram(6)\n",
      "===========\n",
      "the grave of your deserving rome must know the value of her own 'twere a concealment worse than a theft no less than a traducement to hide your doings and to silence that which to the spire and top of praises vouch'd would seem but modest therefore i beseech you\n"
     ]
    }
   ],
   "source": [
    "for ng in range(7):\n",
    "    print(\"===========\")\n",
    "    print(\"n-gram(%d)\" % ng)\n",
    "    print(\"===========\")\n",
    "    print(\"%s\" % next_line(n_gram=ng, n_words=50)[ng:])"
   ]
  },
  {
   "cell_type": "code",
   "execution_count": 39,
   "metadata": {},
   "outputs": [
    {
     "data": {
      "text/plain": [
       "'you to bid my guard proculeius so dolabella it shall be and when i consider by medicine life may in the great'"
      ]
     },
     "execution_count": 39,
     "metadata": {},
     "output_type": "execute_result"
    }
   ],
   "source": [
    "line = next_line()\n"
   ]
  },
  {
   "cell_type": "code",
   "execution_count": 40,
   "metadata": {},
   "outputs": [
    {
     "data": {
      "text/plain": [
       "' bid my guard proculeius so dolabella it shall be and when i consider by medicine life may in the great'"
      ]
     },
     "execution_count": 40,
     "metadata": {},
     "output_type": "execute_result"
    }
   ],
   "source": [
    "line[6:]"
   ]
  }
 ],
 "metadata": {
  "kernelspec": {
   "display_name": "Python 3",
   "language": "python",
   "name": "python3"
  },
  "language_info": {
   "codemirror_mode": {
    "name": "ipython",
    "version": 3
   },
   "file_extension": ".py",
   "mimetype": "text/x-python",
   "name": "python",
   "nbconvert_exporter": "python",
   "pygments_lexer": "ipython3",
   "version": "3.7.3"
  }
 },
 "nbformat": 4,
 "nbformat_minor": 2
}
