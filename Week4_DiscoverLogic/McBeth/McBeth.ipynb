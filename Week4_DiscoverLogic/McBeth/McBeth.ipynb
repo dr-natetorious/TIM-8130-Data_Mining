{
 "cells": [
  {
   "cell_type": "markdown",
   "metadata": {},
   "source": [
    "# McBeth\n",
    "\n",
    "This is a simple Markov model that uses the McBeth play to make additional quotes.  It's pretty dumb but shows the idea.\n",
    "Tutorial: Edureka - [Introduction to Markov Chains](https://www.youtube.com/watch?v=Gs2xtNzogSY)"
   ]
  },
  {
   "cell_type": "code",
   "execution_count": null,
   "metadata": {},
   "outputs": [],
   "source": [
    "import numpy as np"
   ]
  },
  {
   "cell_type": "code",
   "execution_count": 63,
   "metadata": {},
   "outputs": [],
   "source": [
    "def read_mcbeth():\n",
    "    mcbeth = open('work/mcbeth.txt').read()\n",
    "    corpus = mcbeth.split()\n",
    "\n",
    "    for i in range(len(corpus)-1):\n",
    "        yield (corpus[i], corpus[i+1])\n",
    "\n",
    "pairs = read_mcbeth()\n",
    "#print(list(pairs))\n",
    "\n",
    "word_dict = {}\n",
    "for w1, w2 in pairs:\n",
    "    if w1 in word_dict.keys():\n",
    "        #print(\"append\")\n",
    "        word_dict[w1].append(w2)\n",
    "    else:\n",
    "        #print('add')\n",
    "        word_dict[w1] = [w2]\n"
   ]
  },
  {
   "cell_type": "code",
   "execution_count": 64,
   "metadata": {},
   "outputs": [
    {
     "name": "stdout",
     "output_type": "stream",
     "text": [
      "advice which grain will not a night goes the fits o' the hand in him like the best o' that gave\n"
     ]
    }
   ],
   "source": [
    "def next_line():\n",
    "    first_word = np.random.choice(corpus)\n",
    "    chain = [first_word]\n",
    "    n_words = 20\n",
    "    for _ in range(n_words):\n",
    "        next_word = np.random.choice(word_dict[chain[-1]])\n",
    "        chain.append(next_word)\n",
    "        #print(next_word)\n",
    "    print(' '.join(chain))\n",
    "    \n",
    "next_line()    "
   ]
  },
  {
   "cell_type": "code",
   "execution_count": 66,
   "metadata": {},
   "outputs": [
    {
     "name": "stdout",
     "output_type": "stream",
     "text": [
      "i know not know't the happy prologues to be not i must be king hath broke ope the like our first\n",
      "mind that's done macbeth is a solemn supper time before that macduff denies his wife with worms and referred me speak\n",
      "cannot be the king of fate hid that most miraculous work to the other and deep mouth honour love duncan so\n",
      "not pronounce a soldier none in england hath rung night's great art not banquo enters and filthy witness from broad words\n",
      "speaks they gone i have seen me mine own duncan welcome we up them lady macbeth avaunt and certain issue whose\n",
      "in their dam at rest them dareful beard to dunsinane away i have patience courage to morrow is't that which fate\n",
      "towering in his pester'd senses banquo as his brother lennox goes the handle toward the dues of the night lady macbeth\n",
      "a thing most precious to thy praises do mother but in the palace always thought and donalbain aside this night shriek\n",
      "till the dearest love masking the blood that tongue look that which held you know what with my flesh be thus\n",
      "gentle weal ay my intent but yet i did you within hark who i should not lose whether they were that\n"
     ]
    }
   ],
   "source": [
    "for _ in range(10):\n",
    "    next_line()"
   ]
  },
  {
   "cell_type": "code",
   "execution_count": 78,
   "metadata": {},
   "outputs": [],
   "source": [
    "def read_mcbeth():\n",
    "    mcbeth = open('work/mcbeth.txt').read()\n",
    "    corpus = mcbeth.split()\n",
    "\n",
    "    for i in range(len(corpus)-6):\n",
    "        yield (corpus[i], corpus[i+1], corpus[i+2], corpus[i+3], corpus[i+4], corpus[i+5], corpus[i+6])\n",
    "\n",
    "pairs = read_mcbeth()\n",
    "#print(list(pairs))\n",
    "\n",
    "word_dict = {}\n",
    "for w1, w2, w3,w4, w5,w6,w7 in pairs:\n",
    "    # ngram-1\n",
    "    if w1 in word_dict.keys():\n",
    "        word_dict[w1].append(w2)\n",
    "    else:\n",
    "        word_dict[w1] = [w2]\n",
    "    \n",
    "    # ngram-2\n",
    "    if (w1,w2) in word_dict.keys():\n",
    "        word_dict[(w1,w2)].append(w3)\n",
    "    else:\n",
    "        word_dict[(w1,w2)]=[w3]\n",
    "        \n",
    "    # ngram-3\n",
    "    if (w1,w2,w3) in word_dict.keys():\n",
    "        word_dict[(w1,w2,w3)].append(w4)\n",
    "    else:\n",
    "        word_dict[(w1,w2,w3)]=[w4]\n",
    "        \n",
    "    # ngram-4\n",
    "    if (w1,w2,w3,w4) in word_dict.keys():\n",
    "        word_dict[(w1,w2,w3,w4)].append(w5)\n",
    "    else:\n",
    "        word_dict[(w1,w2,w3,w4)]=[w5]\n",
    "        \n",
    "    # ngram-5\n",
    "    if (w1,w2,w3,w4,w5) in word_dict.keys():\n",
    "        word_dict[(w1,w2,w3,w4,w5)].append(w6)\n",
    "    else:\n",
    "        word_dict[(w1,w2,w3,w4,w5)]=[w6]\n",
    "        \n",
    "    # ngram-6\n",
    "    if (w1,w2,w3,w4,w5,w6) in word_dict.keys():\n",
    "        word_dict[(w1,w2,w3,w4,w5,w6)].append(w7)\n",
    "    else:\n",
    "        word_dict[(w1,w2,w3,w4,w5,w6)]=[w7]\n"
   ]
  },
  {
   "cell_type": "code",
   "execution_count": 93,
   "metadata": {},
   "outputs": [],
   "source": [
    "def next_line(n_words = 20):\n",
    "    first_word = np.random.choice(corpus)\n",
    "    chain = [first_word]\n",
    "    chain.append(next_word)\n",
    "    \n",
    "    for _ in range(n_words):\n",
    "\n",
    "        #if len(chain)>6:\n",
    "        #    preferred = (chain[-6], chain[-5], chain[-4], chain[-3], chain[-2], chain[-1])\n",
    "        #    if preferred in word_dict.keys():\n",
    "        #        chain.append(np.random.choice(word_dict[preferred]))\n",
    "        #        continue\n",
    "\n",
    "        #if len(chain)>5:\n",
    "        #    preferred = (chain[-5], chain[-4], chain[-3], chain[-2], chain[-1])\n",
    "        #    if preferred in word_dict.keys():\n",
    "        #        chain.append(np.random.choice(word_dict[preferred]))\n",
    "        #        continue\n",
    "\n",
    "        #if len(chain)>4:\n",
    "        #    preferred = (chain[-4], chain[-3], chain[-2], chain[-1])\n",
    "        #    if preferred in word_dict.keys():\n",
    "        #        chain.append(np.random.choice(word_dict[preferred]))\n",
    "        #        continue\n",
    "\n",
    "        #if len(chain)>3:\n",
    "        #    preferred = (chain[-3], chain[-2], chain[-1])\n",
    "        #    if preferred in word_dict.keys():\n",
    "        #        chain.append(np.random.choice(word_dict[preferred]))\n",
    "        #        continue\n",
    "\n",
    "        #if len(chain)>2:\n",
    "        #    preferred = (chain[-2], chain[-1])\n",
    "        #    if preferred in word_dict.keys():\n",
    "        #        chain.append(np.random.choice(word_dict[preferred]))\n",
    "        #        continue\n",
    "\n",
    "        if len(chain)>1:\n",
    "            preferred = chain[-1]\n",
    "            if preferred in word_dict.keys():\n",
    "                chain.append(np.random.choice(word_dict[preferred]))\n",
    "                continue                        \n",
    "\n",
    "    print(' '.join(chain))"
   ]
  },
  {
   "cell_type": "code",
   "execution_count": 94,
   "metadata": {},
   "outputs": [
    {
     "name": "stdout",
     "output_type": "stream",
     "text": [
      "prophesying of him macduff lord he done macbeth macbeth with the universal peace i from our battlements duncan my sword there's blood in time macbeth blood so gospell'd to all hail macbeth shall say i have willing dames enough for me as will with those men and tartar's lips he's fatherless ross alas do speak him from the powers above to the door macduff hail brave friend i will lady macbeth when the most breed thy blood they were fell enter attendant to gain the repetition in nature that the cauldron bubble all men bestride our hostess and understood relations have drugg'd\n",
      "acts of cawdor if it is a sigh is 't their minds great birnam wood remove the weird sisters to it cannot fight his majesty lady macduff what good night lady macduff those he to gain our ear the lion mettled proud and general cause within him surgeons exit attendant sirrah a fruitless crown to deliver thee i do all continent impediments would we on thy due of a deed 'twere to deliver thee yet i am settled and state craving us by man the slaves of dogs the rich east to be myself besides this downy sleep lady macbeth a father\n",
      "your of fife dismiss me thou been that keeps still though i will perform in our graces as if he disbursed at the gracious duncan great defence to be and the hunter every sin that business from over red lady macbeth consider it is the table's full i believe and i have napkins enow about him first witch hail macbeth thou cream faced the adage macbeth then alas do now king stirring worthy gentleman on her she strike heaven must report after life's fitful fever he prepares for breath gives a taper lo how easy mayst find what i am his majesty\n",
      "worm of hurt minds to plant thee a drum and do lie as he bides with a fairer death what know why do faithful homage and health but i had most miraculous work to the villain first witch thrice to hand mdash they may you exeunt all is said it is received of nobleness like for all things be bloody execution done 't their walk like a death i have pluck'd my warlike siward with them mdash why do you my good sometime is thine are both grave where every one down though he were their dire distresses malcolm banquo look how\n",
      "the of goodness dare abide within what you in time and choke their audit at any is full so poorly in best knows thy face my face servant soldiers it ross and my lord the seeds of the which fate thou art but we'll together and falls on the way it must go about third witch all you aught that which is yours you not macbeth bring you mark that suffer in hell is a walking shadow a baboon's blood so all hail king where hast thou hast harp'd my intent but 'tis to night my near'st of his hand come in\n",
      "is of sorriest fancies your horses go to hide thee lay thou be'st slain kings but i requited him first witch all the water of every sin that thane for your enemy music and underwrit 'here may you banquo kings but cruel any market son thou shouldst be with the door there's not take to anger blunt not report they encounter thee son of the tyrant has kill'd too a kind good sign that in a fenny snake not he lives expire before young malcolm's feet and do good lord lady macduff make all macbeth here's a light first battle worthy thane\n",
      "them of nobleness like queen that bring these terrible of scotland in an eternal curse though thou opposed being taught return at what is received macbeth to us ' lennox the which informs thus to me my fury but shift away there's warrant in it thou canst nod speak augurs and kinsmen thanes and greater than all mortal consequences have had been as from her husband's to come sisters hand and shoal of grace we but for my woman's story quickly have coveted what they did not till birnam forest come to be scann'd lady lady macbeth why then protest me to\n",
      "good of the newest state of hurt minds great provoker of three things at a tail i'll sit worthy thane lives lady macbeth macduff he done when duncan with macbeth did say from the last conference pass'd in him sir now i must minister to our down i am fed it was going but only for breath which now macduff ay and him on thy master o' the cry 'sleep no other graces towards him and then is stopp'd macduff why chance will avouch it is murky mdash fleance the time have said led you do not hear a bell invites me\n",
      "mdash of direst cruelty make it from our strong knots of all the dark liver of second witch all alike and supper go get kings rather than wishest should against him do we can entreat an absolute fear thy heart and that does approve by the unguarded duncan was never was from the newest state of hemlock digg'd i' the snake in second murderer he died hereafter the seeds of nature pay thee well too ross that they gone and with barefaced power is thy crown to receive our country's purge each minute of men as an't please heaven o relation too\n",
      "deign of your children shall sleep my thoughts cannot fight her she has known though you unto a rebel's whore but find heaven or what will fill up to that you unattended knocking at the prince of place was feverous and wisely too went it is got without content 'tis hard use thy soul's flight was mine eternal curse though castles topple on your highness' pardon and your good digestion wait upon thyself and yell'd out in your hermits duncan have a tale told as if thou mayst revenge to use thy soul's flight so his horses swift blessing may not yet\n"
     ]
    }
   ],
   "source": [
    "for _ in range(10):\n",
    "    next_line(100)"
   ]
  },
  {
   "cell_type": "code",
   "execution_count": 84,
   "metadata": {},
   "outputs": [
    {
     "name": "stdout",
     "output_type": "stream",
     "text": [
      "the of many kings if there come truth from them mdash as upon thee macbeth their speeches shine mdash why by the verities on thee made good may they not be my oracles as well and set me up in hope but hush no more sennet sounded enter macbeth as king lady macbeth as queen lennox ross lords ladies and attendants macbeth here's our chief guest lady macbeth if he had been forgotten it had been as a gap in our great feast and all thing unbecoming macbeth to night we hold a solemn supper sir and i'll request your presence banquo let your highness command upon me to the which my duties are with a most indissoluble tie for ever knit macbeth ride you this afternoon banquo ay my good lord macbeth we should have else desired your good advice which still hath been both grave and prosperous in this day's council but we'll take to morrow is't far you ride banquo as far my lord as will fill up the time 'twixt this and supper go not my horse the better i must become a borrower of the night for a dark hour or twain macbeth fail not our feast banquo my lord i will not macbeth we hear our bloody cousins are bestow'd in england and in ireland not confessing their cruel parricide filling their hearers with strange invention but of that to morrow when therewithal we shall have cause of state craving us jointly hie you to horse adieu till you return at night goes fleance with you banquo ay my good lord our time does call upon 's macbeth i wish your horses swift and sure of foot and so i do commend you to their backs farewell exit banquo let every man be master of his time till seven at night to make society the sweeter welcome we will keep ourself till supper time alone while then god be with you exeunt all but macbeth and an attendant sirrah a word with you attend those men our pleasure attendant they are my lord without the palace gate macbeth bring them before us exit attendant to be thus is nothing but to be safely thus mdash our fears in banquo stick deep and in his royalty of nature reigns that which would be fear'd 'tis much he dares and to that dauntless temper of his mind he hath a wisdom that doth guide his valour to act in safety there is none but he whose being i do fear and under him my genius is rebuked as it is said mark antony's was by caesar he chid the sisters when first they put the name of king upon me and bade them speak to him then prophet like they hail'd him father to a line of kings upon my head they placed a fruitless crown and put a barren sceptre in my gripe thence to be wrench'd with an unlineal hand no son of mine succeeding if 't be so for banquo's issue have i filed my mind for them the gracious duncan have i murder'd put rancours in the vessel of my peace only for them and mine eternal jewel given to the common enemy of man to make them kings the seed of banquo kings rather than so come fate into the list and champion me to the utterance who's there re enter attendant with two murderers now go to the door and stay there till we call exit attendant was it not yesterday we spoke together first murderer it was so please your highness macbeth well then now have you consider'd of my speeches know that it was he in the times past which held you so under fortune which you thought had been our innocent self this i made good to you in our last conference pass'd in probation with you how you were borne in hand how cross'd the instruments who wrought with them and all things else that might to half a soul and to a notion crazed say 'thus did banquo ' first murderer you made it known to us macbeth i did so and went further which is now our point of second meeting do you find your patience so predominant in your nature that you can let this go are you so gospell'd to pray for this good man and for his issue whose heavy hand hath bow'd you to the grave and beggar'd yours for ever first murderer we are men my liege macbeth ay in the catalogue ye go for men as hounds and greyhounds mongrels spaniels curs shoughs water rugs and demi wolves are clept all by the name of dogs the valued file distinguishes the swift the slow the subtle the housekeeper the hunter every one according to the gift which bounteous nature hath in him closed whereby he does receive particular addition from the bill that writes them all alike and so of men now if you have a station in the file not i' the worst rank of manhood say 't and i will put that business in your bosoms whose execution takes your enemy off grapples you to the heart and love of us who wear our health but sickly in his life which in his death were perfect second murderer i am one my liege whom the vile blows and buffets of the world have so incensed that i am reckless what i do to spite the world first murderer and i another so weary with disasters tugg'd with fortune that i would set my lie on any chance to mend it or be rid on't macbeth both of you know banquo was your enemy first murderer with second murderer true my lord macbeth so is he mine and in such bloody distance that every minute of his being thrusts against my near'st of life and though i could with barefaced power sweep him from my sight and bid my\n"
     ]
    }
   ],
   "source": [
    "next_line(1000)"
   ]
  },
  {
   "cell_type": "code",
   "execution_count": 85,
   "metadata": {},
   "outputs": [
    {
     "name": "stdout",
     "output_type": "stream",
     "text": [
      "line of truth are ye fantastical or that indeed which outwardly ye show my noble partner you greet with present grace and\n"
     ]
    }
   ],
   "source": [
    "next_line(20)"
   ]
  },
  {
   "cell_type": "code",
   "execution_count": 86,
   "metadata": {},
   "outputs": [
    {
     "name": "stdout",
     "output_type": "stream",
     "text": [
      "in of god i stand and thence against the undivulged pretence i fight of treasonous malice macduff and so do i all so all macbeth let's briefly put on manly readiness and meet i' the hall together all well contented malcolm what will you do let's not consort with them to show\n"
     ]
    }
   ],
   "source": [
    "next_line(50)"
   ]
  }
 ],
 "metadata": {
  "kernelspec": {
   "display_name": "Python 3",
   "language": "python",
   "name": "python3"
  },
  "language_info": {
   "codemirror_mode": {
    "name": "ipython",
    "version": 3
   },
   "file_extension": ".py",
   "mimetype": "text/x-python",
   "name": "python",
   "nbconvert_exporter": "python",
   "pygments_lexer": "ipython3",
   "version": "3.7.3"
  }
 },
 "nbformat": 4,
 "nbformat_minor": 2
}
