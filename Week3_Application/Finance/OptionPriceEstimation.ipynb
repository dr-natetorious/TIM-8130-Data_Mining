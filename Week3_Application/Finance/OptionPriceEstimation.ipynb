{
 "cells": [
  {
   "cell_type": "code",
   "execution_count": 3,
   "metadata": {},
   "outputs": [],
   "source": [
    "def read_option_file(fileName):\n",
    "    import pandas as pd\n",
    "    import math\n",
    "\n",
    "    csv = pd.read_csv(fileName,\n",
    "                    names=['UnderlyingSymbol','UnderlyingPrice','Exchange',\n",
    "                        'OptionSymbol','OptionExt','Type','Expiration',\n",
    "                        'DataDate','Strike','Last','Bid','Ask','Volume',\n",
    "                        'OpenInterest','IV','Delta','Gamma','Theta','Vega','AKA'])\n",
    "\n",
    "    # Remove the exchange columns...\n",
    "    csv = csv.drop(columns=['Exchange','OptionExt','AKA'])\n",
    "\n",
    "    # Parse the date columns into datetimes...\n",
    "    csv['Expiration'] = pd.to_datetime(csv['Expiration'])\n",
    "    csv['DataDate'] = pd.to_datetime(csv['DataDate'])\n",
    "    csv['TimeRemaining'] = (csv['Expiration'] - csv['DataDate']).dt.days\n",
    "\n",
    "    # Tag the quality of the option\n",
    "    bins = [0, 0.16, 0.32, 0.64, 1]\n",
    "    moneynes = pd.cut(x=abs(csv.Delta), bins=bins, labels=['OTM','NTM','ATM','ITM'])\n",
    "    csv['ITM'] = moneynes == 'ITM'\n",
    "    csv['NTM'] = moneynes == 'NTM'\n",
    "    csv['ATM'] = moneynes == 'ATM'\n",
    "    csv['OTM'] = moneynes == 'OTM'\n",
    "\n",
    "\n",
    "    # OneHotEncode the Type property\n",
    "    csv['IsCall'] = csv['Type'] == 'call'\n",
    "    csv['IsPut'] = csv['Type'] == 'put'\n",
    "    csv = csv.drop(columns=['Type'])\n",
    "\n",
    "    # Filter out no/bid records...\n",
    "    csv = csv[(csv.Bid>0) & (csv.OpenInterest >0)]\n",
    "\n",
    "    # Sort the values\n",
    "    csv = csv.sort_values(by=['Expiration','DataDate','Strike'])\n",
    "    return csv\n",
    "\n",
    "#spy = read_option_file('SPY.csv')"
   ]
  },
  {
   "cell_type": "code",
   "execution_count": 19,
   "metadata": {},
   "outputs": [
    {
     "name": "stdout",
     "output_type": "stream",
     "text": [
      "test_size: 0.100000 - score: 0.975440\n",
      "test_size: 0.200000 - score: 0.975177\n",
      "test_size: 0.400000 - score: 0.969589\n",
      "test_size: 0.600000 - score: 0.961804\n",
      "test_size: 0.800000 - score: 0.941840\n",
      "test_size: 0.900000 - score: 0.921469\n"
     ]
    }
   ],
   "source": [
    "def split_csv(csv, test_size):\n",
    "    x_data = csv[['IV','Delta','Gamma','Theta','Vega',\n",
    "              'TimeRemaining','IsCall','IsPut',\n",
    "              'OTM','NTM','ATM','NTM']]\n",
    "    midprice = (csv['Bid']+csv['Ask'])/2\n",
    "    #ratio = csv['UnderlyingPrice']/csv['Strike']\n",
    "    y_data = midprice\n",
    "\n",
    "    from sklearn.model_selection import train_test_split\n",
    "    x_train, x_test, y_train, y_test = train_test_split(x_data, y_data, test_size=test_size, random_state=42)\n",
    "    \n",
    "    from sklearn.preprocessing import StandardScaler\n",
    "    scaler = StandardScaler().fit(x_train)\n",
    "    x_train = scaler.transform(x_train)\n",
    "    x_test = scaler.transform(x_test)\n",
    "    \n",
    "    return x_train, x_test, y_train, y_test\n",
    "\n",
    "for test_size in [0.1, 0.2, 0.4, 0.6, 0.8, 0.9]:\n",
    "    # Split the datasets\n",
    "    x_train, x_test, y_train, y_test = split_csv(msft, test_size)\n",
    "\n",
    "    # Train the model\n",
    "    from sklearn.tree import DecisionTreeRegressor\n",
    "    clf = DecisionTreeRegressor().fit(x_train, y_train)\n",
    "    print(\"test_size: %f - score: %f\" % (test_size, clf.score(x_test, y_test)))\n",
    "    "
   ]
  },
  {
   "cell_type": "code",
   "execution_count": 20,
   "metadata": {},
   "outputs": [],
   "source": [
    "spy = msft"
   ]
  },
  {
   "cell_type": "code",
   "execution_count": 21,
   "metadata": {},
   "outputs": [
    {
     "data": {
      "text/plain": [
       "0.9790419810101619"
      ]
     },
     "execution_count": 21,
     "metadata": {},
     "output_type": "execute_result"
    }
   ],
   "source": [
    "def split_csv(csv, test_size):\n",
    "    x_data = csv[['IV','Delta','Gamma','Theta','Vega',\n",
    "              'TimeRemaining','IsCall','IsPut']]\n",
    "    \n",
    "    # Calculate the y_predict\n",
    "    midprice = (csv['Bid']+csv['Ask'])/2\n",
    "    notional = csv['UnderlyingPrice'] * csv['Delta']\n",
    "    \n",
    "    y_data = midprice / csv['UnderlyingPrice']\n",
    "\n",
    "    from sklearn.model_selection import train_test_split\n",
    "    x_train, x_test, y_train, y_test = train_test_split(x_data, y_data, test_size=test_size, random_state=42)\n",
    "    \n",
    "    from sklearn.preprocessing import StandardScaler\n",
    "    scaler = StandardScaler().fit(x_train)\n",
    "    x_train = scaler.transform(x_train)\n",
    "    x_test = scaler.transform(x_test)\n",
    "    \n",
    "    return x_train, x_test, y_train, y_test\n",
    "\n",
    "\n",
    "# Split the datasets\n",
    "x_train, x_test, y_train, y_test = split_csv(spy, test_size=0.7)\n",
    "\n",
    "# Train the model\n",
    "from sklearn.tree import DecisionTreeRegressor\n",
    "clf = DecisionTreeRegressor().fit(x_train, y_train)\n",
    "clf.score(x_test, y_test)"
   ]
  },
  {
   "cell_type": "code",
   "execution_count": 22,
   "metadata": {},
   "outputs": [],
   "source": [
    "iwm = read_option_file(\"IWM.csv\")"
   ]
  },
  {
   "cell_type": "code",
   "execution_count": 23,
   "metadata": {},
   "outputs": [
    {
     "data": {
      "text/plain": [
       "0.6500562379900882"
      ]
     },
     "execution_count": 23,
     "metadata": {},
     "output_type": "execute_result"
    }
   ],
   "source": [
    "# Split the datasets\n",
    "x_train, x_test, y_train, y_test = split_csv(iwm, test_size=0.7)\n",
    "\n",
    "# Train the model\n",
    "clf.score(x_test, y_test)"
   ]
  },
  {
   "cell_type": "code",
   "execution_count": 37,
   "metadata": {},
   "outputs": [
    {
     "data": {
      "text/plain": [
       "-1.6790360458719482"
      ]
     },
     "execution_count": 37,
     "metadata": {},
     "output_type": "execute_result"
    }
   ],
   "source": [
    "# Split the datasets\n",
    "tlt = read_option_file(\"TLT.csv\")\n",
    "x_train, x_test, y_train, y_test = split_csv(tlt, test_size=0.7)\n",
    "\n",
    "# Train the model\n",
    "clf.score(x_test, y_test)\n"
   ]
  },
  {
   "cell_type": "code",
   "execution_count": 38,
   "metadata": {},
   "outputs": [
    {
     "data": {
      "text/plain": [
       "0.7603279172626035"
      ]
     },
     "execution_count": 38,
     "metadata": {},
     "output_type": "execute_result"
    }
   ],
   "source": [
    "# Split the datasets\n",
    "qqq = read_option_file(\"QQQ.csv\")\n",
    "x_train, x_test, y_train, y_test = split_csv(qqq, test_size=0.3)\n",
    "\n",
    "# Train the model\n",
    "clf.score(x_test, y_test)\n"
   ]
  },
  {
   "cell_type": "code",
   "execution_count": 4,
   "metadata": {},
   "outputs": [],
   "source": [
    "spy = read_option_file('SPY.csv')\n",
    "tlt = read_option_file('TLT.csv')"
   ]
  },
  {
   "cell_type": "code",
   "execution_count": 5,
   "metadata": {},
   "outputs": [],
   "source": [
    "import pandas as pd\n",
    "combined = pd.concat([spy, tlt], ignore_index=True)"
   ]
  },
  {
   "cell_type": "code",
   "execution_count": 6,
   "metadata": {},
   "outputs": [
    {
     "data": {
      "text/plain": [
       "0.9873425309886735"
      ]
     },
     "execution_count": 6,
     "metadata": {},
     "output_type": "execute_result"
    }
   ],
   "source": [
    "def split_csv(csv, test_size):\n",
    "    x_data = csv[['IV','Delta','Gamma','Theta','Vega',\n",
    "              'TimeRemaining','IsCall','IsPut']]\n",
    "\n",
    "    # Calculate the y_predict\n",
    "    midprice = (csv['Bid']+csv['Ask'])/2\n",
    "    notional = csv['UnderlyingPrice'] * csv['Delta']\n",
    "\n",
    "    y_data = midprice / csv['UnderlyingPrice']\n",
    "\n",
    "    from sklearn.model_selection import train_test_split\n",
    "    x_train, x_test, y_train, y_test = train_test_split(x_data, y_data, test_size=test_size, random_state=42)\n",
    "\n",
    "    from sklearn.preprocessing import StandardScaler\n",
    "    scaler = StandardScaler().fit(x_train)\n",
    "    x_train = scaler.transform(x_train)\n",
    "    x_test = scaler.transform(x_test)\n",
    "\n",
    "    return x_train, x_test, y_train, y_test\n",
    "\n",
    "\n",
    "# Split the datasets\n",
    "x_train, x_test, y_train, y_test = split_csv(combined, test_size=0.3)\n",
    "\n",
    "# Train the model\n",
    "from sklearn.tree import DecisionTreeRegressor\n",
    "clf = DecisionTreeRegressor().fit(x_train, y_train)\n",
    "clf.score(x_test, y_test)"
   ]
  },
  {
   "cell_type": "code",
   "execution_count": 10,
   "metadata": {},
   "outputs": [
    {
     "data": {
      "text/plain": [
       "0.7854175346665832"
      ]
     },
     "execution_count": 10,
     "metadata": {},
     "output_type": "execute_result"
    }
   ],
   "source": [
    "qqq = read_option_file('QQQ.csv')\n",
    "x_train, x_test, y_train, y_test = split_csv(qqq, test_size=0.3)\n",
    "\n",
    "clf.score(x_test, y_test)"
   ]
  },
  {
   "cell_type": "code",
   "execution_count": 8,
   "metadata": {},
   "outputs": [
    {
     "data": {
      "text/plain": [
       "array([6.05331166e-03, 3.70008378e-02, 2.20804299e-01, 2.15965892e-02,\n",
       "       1.70652956e-02, 5.66639281e-01, 1.45248909e-01, 2.63892127e-01,\n",
       "       7.19356237e-01, 1.73838887e-01, 8.48155575e-03, 3.52503236e-02,\n",
       "       4.07468605e-01, 2.39466718e-04, 1.41630747e-01, 1.39384129e-01,\n",
       "       7.64072179e-03, 2.62914845e-02, 3.03163162e-02, 5.77320791e-02])"
      ]
     },
     "execution_count": 8,
     "metadata": {},
     "output_type": "execute_result"
    }
   ],
   "source": [
    "clf.predict(x_test[0:20])"
   ]
  },
  {
   "cell_type": "code",
   "execution_count": 9,
   "metadata": {},
   "outputs": [
    {
     "data": {
      "text/plain": [
       "2151851     0.006034\n",
       "9643277     0.036646\n",
       "409964      0.232573\n",
       "4356278     0.021770\n",
       "5887913     0.018521\n",
       "5627783     0.566230\n",
       "8658058     0.155650\n",
       "2083183     0.255774\n",
       "864762      0.730194\n",
       "254230      0.161137\n",
       "6693689     0.008808\n",
       "2610968     0.034919\n",
       "478432      0.414078\n",
       "6673414     0.000053\n",
       "2058647     0.134447\n",
       "639922      0.145743\n",
       "3787667     0.007138\n",
       "6473848     0.027827\n",
       "10131491    0.030549\n",
       "3203165     0.058200\n",
       "dtype: float64"
      ]
     },
     "execution_count": 9,
     "metadata": {},
     "output_type": "execute_result"
    }
   ],
   "source": [
    "y_test[0:20]"
   ]
  },
  {
   "cell_type": "code",
   "execution_count": 11,
   "metadata": {},
   "outputs": [
    {
     "data": {
      "text/plain": [
       "0.6496992299420365"
      ]
     },
     "execution_count": 11,
     "metadata": {},
     "output_type": "execute_result"
    }
   ],
   "source": [
    "baba = read_option_file('BABA.csv')\n",
    "x_train, x_test, y_train, y_test = split_csv(baba, test_size=0.3)\n",
    "\n",
    "clf.score(x_test, y_test)"
   ]
  }
 ],
 "metadata": {
  "kernelspec": {
   "display_name": "Python 3",
   "language": "python",
   "name": "python3"
  },
  "language_info": {
   "codemirror_mode": {
    "name": "ipython",
    "version": 3
   },
   "file_extension": ".py",
   "mimetype": "text/x-python",
   "name": "python",
   "nbconvert_exporter": "python",
   "pygments_lexer": "ipython3",
   "version": "3.7.3"
  }
 },
 "nbformat": 4,
 "nbformat_minor": 2
}
